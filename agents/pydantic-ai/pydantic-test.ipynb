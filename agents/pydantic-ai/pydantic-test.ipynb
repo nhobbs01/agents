{
 "cells": [
  {
   "cell_type": "code",
   "execution_count": 291,
   "metadata": {},
   "outputs": [],
   "source": [
    "from pydantic_ai import Agent\n",
    "from dotenv import load_dotenv\n",
    "import nest_asyncio\n",
    "\n",
    "\n",
    "nest_asyncio.apply()\n",
    "_ = load_dotenv()"
   ]
  },
  {
   "cell_type": "code",
   "execution_count": 28,
   "metadata": {},
   "outputs": [],
   "source": [
    "agent = Agent('gemini-1.5-flash', system_prompt=\"You are a personal assistant, you answer questions in one sentence.\")\n"
   ]
  },
  {
   "cell_type": "code",
   "execution_count": 29,
   "metadata": {},
   "outputs": [],
   "source": [
    "result = agent.run_sync('What is pydantic?')"
   ]
  },
  {
   "cell_type": "code",
   "execution_count": 30,
   "metadata": {},
   "outputs": [
    {
     "data": {
      "text/plain": [
       "Cost(request_tokens=21, response_tokens=15, total_tokens=36, details=None)"
      ]
     },
     "execution_count": 30,
     "metadata": {},
     "output_type": "execute_result"
    }
   ],
   "source": [
    "result.cost()"
   ]
  },
  {
   "cell_type": "code",
   "execution_count": 2,
   "metadata": {},
   "outputs": [
    {
     "name": "stderr",
     "output_type": "stream",
     "text": [
      "C:\\Users\\milia.io\\AppData\\Local\\Temp\\ipykernel_28928\\4257384914.py:9: LogfireNotConfiguredWarning: No logs or spans will be created until `logfire.configure()` has been called. Set the environment variable LOGFIRE_IGNORE_NO_CONFIG=1 or add ignore_no_config=true in pyproject.toml to suppress this warning.\n",
      "  res = structured_agent.run_sync('What is the most populated city in europe?')\n"
     ]
    }
   ],
   "source": [
    "from pydantic import BaseModel\n",
    "# Structured response\n",
    "class MyModel(BaseModel):\n",
    "    city: str\n",
    "    country: str\n",
    "\n",
    "structured_agent = Agent('gemini-1.5-flash', result_type=MyModel)\n",
    "\n",
    "res = structured_agent.run_sync('What is the most populated city in europe?')\n"
   ]
  },
  {
   "cell_type": "code",
   "execution_count": 32,
   "metadata": {},
   "outputs": [
    {
     "data": {
      "text/plain": [
       "MyModel(city='London', country='UK')"
      ]
     },
     "execution_count": 32,
     "metadata": {},
     "output_type": "execute_result"
    }
   ],
   "source": [
    "res.data"
   ]
  },
  {
   "cell_type": "code",
   "execution_count": 3,
   "metadata": {},
   "outputs": [],
   "source": [
    "from pydantic_ai import Tool, RunContext\n",
    "\n",
    "def add(a: int, b: int):\n",
    "    return a+b\n",
    "\n",
    "add_agent = Agent('gemini-1.5-flash', tools=[Tool(add, takes_ctx=False)], system_prompt=\"You are an addition assistant. You can only add numbers.\"\n",
    ")\n",
    "\n",
    "result = add_agent.run_sync('What is 2*4')\n",
    "\n",
    "\n"
   ]
  },
  {
   "cell_type": "code",
   "execution_count": 4,
   "metadata": {},
   "outputs": [
    {
     "name": "stdout",
     "output_type": "stream",
     "text": [
      "I can only add numbers.  I cannot perform multiplication.\n",
      "\n"
     ]
    }
   ],
   "source": [
    "print(result.data)"
   ]
  },
  {
   "cell_type": "code",
   "execution_count": 5,
   "metadata": {},
   "outputs": [],
   "source": [
    "result = add_agent.run_sync('What is 2+4')\n"
   ]
  },
  {
   "cell_type": "code",
   "execution_count": 6,
   "metadata": {},
   "outputs": [
    {
     "name": "stdout",
     "output_type": "stream",
     "text": [
      "6\n",
      "\n"
     ]
    }
   ],
   "source": [
    "print(result.data)"
   ]
  },
  {
   "cell_type": "code",
   "execution_count": null,
   "metadata": {},
   "outputs": [],
   "source": [
    "todo_list = []"
   ]
  },
  {
   "cell_type": "code",
   "execution_count": 336,
   "metadata": {},
   "outputs": [],
   "source": [
    "def append_todo_list(item: str) -> str:\n",
    "    \"\"\"Appends an item to the todo list.\"\"\"\n",
    "    print('Appending', item)\n",
    "    with open(\"test.txt\", \"a\") as myfile:\n",
    "        myfile.write(item + '\\n')\n",
    "\n",
    "    return 'Success'\n",
    "\n",
    "def update_todo_list(item: str) -> str:\n",
    "    \"\"\"Updates a current item in the todo list\"\"\"\n",
    "    print('Updating to todo list', item)\n",
    "    return 'Success'\n",
    "\n",
    "def get_todo_list() -> str:\n",
    "    \"\"\"Returns the current todo list\"\"\"\n",
    "    print('Getting todo list')\n",
    "    res = \"\"\n",
    "    with open(\"test.txt\", \"r\") as myfile:\n",
    "        res = myfile.read()\n",
    "    return res"
   ]
  },
  {
   "cell_type": "code",
   "execution_count": null,
   "metadata": {},
   "outputs": [],
   "source": [
    "agent = Agent('gemini-1.5-flash',\n",
    "              system_prompt=\"\"\"\n",
    "                        You are a todo list manager. You help the user manage their todo list.\n",
    "                        You can fetch, update and append the user's todo list.\n",
    "                        First fetch the todo list, then analzye the user's request.\n",
    "                        Create a plan for the steps required to help the user. Fetch the todo list fisrt to help you plan.\n",
    "                        Don't append to the list if the user's request is already on the todo list. \n",
    "                        \"\"\",\n",
    "                         tools=[Tool(get_todo_list, takes_ctx=False),Tool(append_todo_list, takes_ctx=False), Tool(update_todo_list, takes_ctx=False)])"
   ]
  },
  {
   "cell_type": "code",
   "execution_count": 353,
   "metadata": {},
   "outputs": [],
   "source": [
    "result = agent.run_sync(\"I need to pack by bags for my flight tomorrow. I need to cook dinner later. I need to set my alarm for 5am.\")"
   ]
  },
  {
   "cell_type": "code",
   "execution_count": 354,
   "metadata": {},
   "outputs": [
    {
     "data": {
      "text/plain": [
       "'Your to do list already contains these items. Is there anything else I can help with?'"
      ]
     },
     "execution_count": 354,
     "metadata": {},
     "output_type": "execute_result"
    }
   ],
   "source": [
    "result.data"
   ]
  },
  {
   "cell_type": "code",
   "execution_count": 161,
   "metadata": {},
   "outputs": [],
   "source": [
    "checker_result = agent_checker.run_sync(f\"\"\"Check this request. \n",
    "                                Here is the user's current todo list: \n",
    "                                Todo:\n",
    "                                    - Make dinner\n",
    "                                        \n",
    "                                The assistant's plan is {result.data}\n",
    "                                \"\"\")"
   ]
  },
  {
   "cell_type": "code",
   "execution_count": 162,
   "metadata": {},
   "outputs": [
    {
     "data": {
      "text/plain": [
       "'The assistant\\'s plan is insufficient. While adding \"Cook dinner\" is a step in the right direction, it\\'s too vague.  To make a dinner plan more helpful, the assistant needs more information.  Here\\'s feedback to give the assistant:\\n\\n\"The plan to add \\'Cook dinner\\' is a start, but lacks crucial detail. To improve, the assistant should:\\n\\n1. **Clarify the specifics of dinner:**  Ask the user what they want to eat.  If the user doesn\\'t have a preference, suggest some options based on available ingredients or dietary restrictions.  The plan should include a specific recipe or at least a list of ingredients needed.\\n\\n2. **Break down the task:** Cooking dinner isn\\'t a single action.  It involves gathering ingredients, preparing ingredients (chopping, washing), cooking, and cleaning up. The assistant should break this down into smaller, manageable tasks within the to-do list.  Example:\\n\\n    * Shop for ingredients (if necessary, including a list)\\n    * Prepare vegetables (specify which ones)\\n    * Cook protein (specify protein and cooking method)\\n    * Cook sides (specify sides)\\n    * Set the table\\n    * Clean up\\n\\n3. **Consider time constraints:**  Ask the user what time dinner should be ready. This helps with scheduling the sub-tasks effectively.\\n\\n4. **Account for potential issues:** What if an ingredient is missing? The assistant should incorporate contingency plans.\\n\\nBy adding these details, the assistant\\'s plan becomes much more useful and actionable for the user.\"\\n'"
      ]
     },
     "execution_count": 162,
     "metadata": {},
     "output_type": "execute_result"
    }
   ],
   "source": [
    "checker_result.data"
   ]
  },
  {
   "cell_type": "code",
   "execution_count": 253,
   "metadata": {},
   "outputs": [],
   "source": [
    "result = agent.run_sync('I need to pack by bags for my flight tomorrow. I need to cook dinner later. I need to set my alarm for 5am.', message_history=result.all_messages())"
   ]
  },
  {
   "cell_type": "code",
   "execution_count": 254,
   "metadata": {},
   "outputs": [
    {
     "data": {
      "text/plain": [
       "'The request to add \"pack bags for flight tomorrow\", \"cook dinner later\", and \"set alarm for 5am\" is ignored because these items already exist in the todo list.\\n'"
      ]
     },
     "execution_count": 254,
     "metadata": {},
     "output_type": "execute_result"
    }
   ],
   "source": [
    "result.data"
   ]
  },
  {
   "cell_type": "code",
   "execution_count": 125,
   "metadata": {},
   "outputs": [
    {
     "name": "stdout",
     "output_type": "stream",
     "text": [
      "[UserPrompt(content='I need to pack by bags for my flight tomorrow. I need to cook dinner later.', timestamp=datetime.datetime(2024, 12, 8, 20, 42, 49, 632415, tzinfo=datetime.timezone.utc), role='user'), ModelStructuredResponse(calls=[ToolCall(tool_name='append_todo_list', args=ArgsDict(args_dict={'item': 'Pack bags for flight'}), tool_id=None)], timestamp=datetime.datetime(2024, 12, 8, 20, 42, 50, 626532, tzinfo=datetime.timezone.utc), role='model-structured-response'), ToolReturn(tool_name='append_todo_list', content='Success', tool_id=None, timestamp=datetime.datetime(2024, 12, 8, 20, 42, 50, 634571, tzinfo=datetime.timezone.utc), role='tool-return'), ModelTextResponse(content='Todo:\\n- Cook dinner\\n- Pack bags for flight\\n', timestamp=datetime.datetime(2024, 12, 8, 20, 42, 51, 100262, tzinfo=datetime.timezone.utc), role='model-text-response')]\n"
     ]
    }
   ],
   "source": [
    "print(result.new_messages())"
   ]
  },
  {
   "cell_type": "code",
   "execution_count": null,
   "metadata": {},
   "outputs": [],
   "source": []
  }
 ],
 "metadata": {
  "kernelspec": {
   "display_name": "venv",
   "language": "python",
   "name": "python3"
  },
  "language_info": {
   "codemirror_mode": {
    "name": "ipython",
    "version": 3
   },
   "file_extension": ".py",
   "mimetype": "text/x-python",
   "name": "python",
   "nbconvert_exporter": "python",
   "pygments_lexer": "ipython3",
   "version": "3.12.6"
  }
 },
 "nbformat": 4,
 "nbformat_minor": 2
}
