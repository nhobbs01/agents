{
 "cells": [
  {
   "cell_type": "code",
   "execution_count": 29,
   "metadata": {},
   "outputs": [],
   "source": [
    "from dotenv import load_dotenv\n",
    "import os\n",
    "\n",
    "_ = load_dotenv()"
   ]
  },
  {
   "cell_type": "code",
   "execution_count": 4,
   "metadata": {},
   "outputs": [],
   "source": [
    "from langchain_google_genai import ChatGoogleGenerativeAI\n",
    "\n",
    "llm = ChatGoogleGenerativeAI(model='gemini-1.5-flash',\n",
    "                             temperature=1,\n",
    ")\n"
   ]
  },
  {
   "cell_type": "code",
   "execution_count": 13,
   "metadata": {},
   "outputs": [],
   "source": [
    "messages = [\n",
    "    (\n",
    "        \"system\",\n",
    "        \"You are a helpful assistant that translates English to Spanish. Think to yourself about how you would translate a sentence from English to Spanish. Think of a different ways to translate the sentence\",\n",
    "    ),\n",
    "    (\"human\", \"I love programming.\"),\n",
    "]\n",
    "\n",
    "ai_msg = llm.invoke(messages)"
   ]
  },
  {
   "cell_type": "code",
   "execution_count": 16,
   "metadata": {},
   "outputs": [
    {
     "name": "stdout",
     "output_type": "stream",
     "text": [
      "There are several ways to translate \"I love programming\" into Spanish, each with slightly different nuances:\n",
      "\n",
      "* **Me encanta programar:** This is a very common and natural translation.  \"Encantar\" implies a strong liking, a feeling of delight.  It's a good all-around choice.\n",
      "\n",
      "* **Amo programar:** This translates literally to \"I love programming,\" using the verb \"amar\" which is a stronger verb than \"encantar.\" It suggests a more passionate love.\n",
      "\n",
      "* **Me apasiona programar:** This translates to \"Programming is my passion\" or \"I'm passionate about programming.\" It emphasizes the enthusiasm and dedication involved.\n",
      "\n",
      "* **Adoro programar:** Similar to \"encantar,\" \"adorar\" expresses a strong liking, but perhaps with a hint of reverence or admiration.\n",
      "\n",
      "The best choice depends on the context and the desired level of intensity.  For most situations, \"Me encanta programar\" is perfectly suitable.\n",
      "\n"
     ]
    }
   ],
   "source": [
    "print(ai_msg.content)"
   ]
  },
  {
   "cell_type": "code",
   "execution_count": 19,
   "metadata": {},
   "outputs": [],
   "source": [
    "# Define a simple graph\n",
    "from typing_extensions import TypedDict\n",
    "from typing import Annotated\n",
    "from langgraph.graph.message import add_messages\n",
    "from langgraph.graph import StateGraph, START, END\n",
    "\n",
    "# Define the state\n",
    "class State(TypedDict):\n",
    "    messages: Annotated[list, add_messages]\n",
    "\n",
    "\n",
    "graph_builder = StateGraph(State)"
   ]
  },
  {
   "cell_type": "code",
   "execution_count": 20,
   "metadata": {},
   "outputs": [
    {
     "data": {
      "text/plain": [
       "<langgraph.graph.state.StateGraph at 0x21953fd9250>"
      ]
     },
     "execution_count": 20,
     "metadata": {},
     "output_type": "execute_result"
    }
   ],
   "source": [
    "llm = ChatGoogleGenerativeAI(model='gemini-1.5-flash', temperature=0)\n",
    "\n",
    "# Add chatbot node\n",
    "def chatbot(state: State):\n",
    "    return {\"messages\": [llm.invoke(state[\"messages\"])]}\n",
    "\n",
    "\n",
    "graph_builder.add_node(\"chatbot\", chatbot)"
   ]
  },
  {
   "cell_type": "code",
   "execution_count": 21,
   "metadata": {},
   "outputs": [
    {
     "data": {
      "text/plain": [
       "<langgraph.graph.state.StateGraph at 0x21953fd9250>"
      ]
     },
     "execution_count": 21,
     "metadata": {},
     "output_type": "execute_result"
    }
   ],
   "source": [
    "# add entry point to the graph\n",
    "graph_builder.add_edge(START, \"chatbot\")\n",
    "graph_builder.add_edge(\"chatbot\", END)"
   ]
  },
  {
   "cell_type": "code",
   "execution_count": 22,
   "metadata": {},
   "outputs": [],
   "source": [
    "# Compile graph\n",
    "graph = graph_builder.compile()"
   ]
  },
  {
   "cell_type": "code",
   "execution_count": 25,
   "metadata": {},
   "outputs": [
    {
     "data": {
      "image/png": "[encoded data removed]",
      "text/plain": [
       "<IPython.core.display.Image object>"
      ]
     },
     "metadata": {},
     "output_type": "display_data"
    }
   ],
   "source": [
    "# Visualize the graph\n",
    "from IPython.display import Image, display\n",
    "\n",
    "try:\n",
    "    display(Image(graph.get_graph().draw_mermaid_png()))\n",
    "except Exception:\n",
    "    # This requires some extra dependencies and is optional\n",
    "    pass"
   ]
  },
  {
   "cell_type": "code",
   "execution_count": 27,
   "metadata": {},
   "outputs": [
    {
     "name": "stdout",
     "output_type": "stream",
     "text": [
      "Assistant: LangChain is a framework for developing applications powered by large language models (LLMs).  It's designed to make it easier to build applications that leverage the capabilities of LLMs while addressing some of their limitations.  Here's a breakdown of its key features and aspects:\n",
      "\n",
      "**Core Features:**\n",
      "\n",
      "* **Modular Design:** LangChain is built with modularity in mind.  This allows developers to easily swap out different components (LLMs, prompts, memory, etc.) to customize their applications.  This flexibility is a major strength.\n",
      "\n",
      "* **LLM Integration:**  It seamlessly integrates with various LLMs, including OpenAI, Hugging Face Hub models, and others.  This means you're not locked into a single provider.\n",
      "\n",
      "* **Prompt Management:**  LangChain provides tools for managing and optimizing prompts.  This is crucial because the effectiveness of an LLM heavily depends on the quality of the prompt.  Features include prompt templates and chain-of-thought prompting.\n",
      "\n",
      "* **Memory:**  LLMs are stateless by nature.  LangChain offers different memory mechanisms to allow applications to maintain context across multiple interactions with the LLM.  This is essential for building conversational agents or applications requiring a history of previous interactions.  Examples include ConversationBufferMemory and ConversationSummaryMemory.\n",
      "\n",
      "* **Chains:**  This is a core concept in LangChain.  Chains combine multiple components (LLMs, prompts, other functions) into a sequence to perform more complex tasks.  This allows for building sophisticated workflows.  Examples include sequential chains, parallel chains, and map-reduce chains.\n",
      "\n",
      "* **Agents:**  Agents allow LLMs to interact with external resources (like APIs or databases) to gather information and complete tasks.  The agent decides which tool to use based on the user's request and the LLM's suggestions.  This enables LLMs to perform actions beyond simply generating text.\n",
      "\n",
      "* **Indexes:**  LangChain provides tools to index and query your own data, allowing LLMs to access and process information from your documents, databases, or other sources.  This is crucial for building applications that leverage specific knowledge bases.\n",
      "\n",
      "\n",
      "**What LangChain is *not*:**\n",
      "\n",
      "* **An LLM itself:** LangChain doesn't provide the LLMs; it's a framework for *using* them.\n",
      "* **A complete application:** It's a toolkit, not a finished product.  You need to build your application on top of it.\n",
      "\n",
      "\n",
      "**Use Cases:**\n",
      "\n",
      "LangChain is used to build a wide variety of applications, including:\n",
      "\n",
      "* **Chatbots:**  Creating conversational AI agents with memory and the ability to access external information.\n",
      "* **Question Answering Systems:**  Building systems that can answer questions based on a specific knowledge base.\n",
      "* **Summarization Tools:**  Creating tools that can summarize large amounts of text.\n",
      "* **Creative Writing Assistants:**  Building tools that can help with writing tasks.\n",
      "* **Data Analysis Tools:**  Creating tools that can analyze data and generate insights.\n",
      "\n",
      "\n",
      "**In short:** LangChain simplifies the process of building applications that leverage the power of LLMs by providing a structured and modular framework.  It addresses key challenges in LLM development, such as prompt engineering, memory management, and integration with external resources.  It's a powerful tool for anyone looking to build sophisticated LLM-powered applications.\n",
      "\n"
     ]
    }
   ],
   "source": [
    "def stream_graph_updates(user_input: str):\n",
    "    for event in graph.stream({\"messages\": [(\"user\", user_input)]}):\n",
    "        for value in event.values():\n",
    "            print(\"Assistant:\", value[\"messages\"][-1].content)\n",
    "\n",
    "user_input = input(\"User: \")\n",
    "stream_graph_updates(user_input)"
   ]
  },
  {
   "cell_type": "code",
   "execution_count": 28,
   "metadata": {},
   "outputs": [],
   "source": [
    "from langchain_community.tools import TavilySearchResults\n"
   ]
  },
  {
   "cell_type": "code",
   "execution_count": 36,
   "metadata": {},
   "outputs": [],
   "source": [
    "tool = TavilySearchResults(\n",
    "    max_results=5,\n",
    "    search_depth=\"advanced\",\n",
    "    include_answer=False,\n",
    "    include_raw_content=True,\n",
    "    include_images=False,\n",
    ")"
   ]
  },
  {
   "cell_type": "code",
   "execution_count": 37,
   "metadata": {},
   "outputs": [
    {
     "data": {
      "text/plain": [
       "[{'url': 'https://www.nytimes.com/athletic/live-blogs/wimbledon-2024-live-updates-alcaraz-djokovic-mens-final-result/kJJdTKhOgkZo/mGpXBR2QIift/',\n",
       "  'content': \"Carlos Alcaraz beats Novak Djokovic to win the men's singles final In the 2023 final, Carlos Alcaraz won his first Wimbledon title, and only his second Grand Slam title, after beating Novak Djokovic in a five-set thriller on Centre Court. GO FURTHER Novak Djokovic and Carlos Alcaraz’s Wimbledon final is a duel of extraordinary quests Novak Djokovic set up a Wimbledon rematch with Carlos Alcaraz by beating Lorenzo Musetti, 6-4, 7-6, 6-3 on Centre Court on Friday, concluding his run to the final at the All England Club that started just 25 days after surgery on a torn meniscus in his right knee. GO FURTHER Novak Djokovic beats Lorenzo Musetti for Wimbledon final against Carlos Alcaraz\"},\n",
       " {'url': 'https://www.atptour.com/en/news/djokovic-wimbledon-2024-final-reaction',\n",
       "  'content': \"Novak Djokovic accepting of Carlos Alcaraz defeat: 'I don't think I could have done more' | ATP Tour | Tennis Novak Djokovic walked onto Centre Court to face Carlos Alcaraz at Wimbledon on Sunday aiming to win a record-extending 25th major crown. “I did all I can to prepare myself for this match and this tournament in general,” Djokovic said. It has to be a success at the end of the day with me and my team playing Wimbledon finals and losing to the best player of the tournament.” You May Also Like: Alcaraz beats Djokovic in Wimbledon final after late plot twist Djokovic, who has earned seven Wimbledon crowns, first trained on grass six days before the tournament started on 1st July.\"},\n",
       " {'url': 'https://www.bbc.co.uk/sport/live/tennis/65584750',\n",
       "  'content': \"The last champion to win the Wimbledon men's singles title that was not named Novak Djokovic, Roger Federer, Andy Murray or Rafael Nadal was Australian Lleyton Hewitt, way back in 2002.\"},\n",
       " {'url': 'https://www.independent.co.uk/sport/tennis/wimbledon-final-2023-winner-trophy-carlos-alcaraz-b2376360.html',\n",
       "  'content': 'Wimbledon 2023 LIVE: Reaction after Carlos Alcaraz defeats Novak Djokovic in final for the ages. Carlos Alcaraz defeated Novak Djokovic 1-6 7-6 6-1 3-6 6-4 to win one of the greatest ever'},\n",
       " {'url': 'https://apnews.com/article/wimbledon-djokovic-rain-injuries-slipping-1963887a00cdbcabb4d7ea9492028245',\n",
       "  'content': \"The woman who beat her last week, Jessica Bouzas Maneiro, stopped at Wimbledon because of a back issue in the third round against Krejcikova. Frances Tiafoe pulled out of the Queen's Club tournament before Wimbledon after spraining a ligament in his right knee when he took a tumble. Tiafoe played at the All England Club with a black sleeve\"}]"
      ]
     },
     "execution_count": 37,
     "metadata": {},
     "output_type": "execute_result"
    }
   ],
   "source": [
    "res = tool.invoke({\"query\": \"What happened at the last wimbledon\"})\n",
    "res"
   ]
  },
  {
   "cell_type": "code",
   "execution_count": 42,
   "metadata": {},
   "outputs": [
    {
     "data": {
      "text/plain": [
       "{'url': 'https://www.nytimes.com/athletic/live-blogs/wimbledon-2024-live-updates-alcaraz-djokovic-mens-final-result/kJJdTKhOgkZo/mGpXBR2QIift/',\n",
       " 'content': \"Carlos Alcaraz beats Novak Djokovic to win the men's singles final In the 2023 final, Carlos Alcaraz won his first Wimbledon title, and only his second Grand Slam title, after beating Novak Djokovic in a five-set thriller on Centre Court. GO FURTHER Novak Djokovic and Carlos Alcaraz’s Wimbledon final is a duel of extraordinary quests Novak Djokovic set up a Wimbledon rematch with Carlos Alcaraz by beating Lorenzo Musetti, 6-4, 7-6, 6-3 on Centre Court on Friday, concluding his run to the final at the All England Club that started just 25 days after surgery on a torn meniscus in his right knee. GO FURTHER Novak Djokovic beats Lorenzo Musetti for Wimbledon final against Carlos Alcaraz\"}"
      ]
     },
     "execution_count": 42,
     "metadata": {},
     "output_type": "execute_result"
    }
   ],
   "source": [
    "res[0]"
   ]
  },
  {
   "cell_type": "code",
   "execution_count": 44,
   "metadata": {},
   "outputs": [],
   "source": [
    "from tavily import TavilyClient\n",
    "tavily = TavilyClient(api_key=os.environ[\"TAVILY_API_KEY\"])"
   ]
  },
  {
   "cell_type": "code",
   "execution_count": 54,
   "metadata": {},
   "outputs": [],
   "source": [
    "res = tavily.search('What happened at wimbledon last year?')"
   ]
  },
  {
   "cell_type": "code",
   "execution_count": 56,
   "metadata": {},
   "outputs": [
    {
     "data": {
      "text/plain": [
       "{'title': \"Who won Wimbledon last year? Men's and women's singles champions at UK ...\",\n",
       " 'url': 'https://www.sportingnews.com/us/tennis/news/who-won-wimbledon-2023-last-year-mens-womens-title-grand-slam-tennis/b91b5ee6d89a0e0d2c4b0890',\n",
       " 'content': \"Last year's Wimbledon tournament saw history being made, with an unseeded player winning the ladies' singles for the first time ever. Marketa Vondrousova was ranked at 42 in the world before the\",\n",
       " 'score': 0.9828892,\n",
       " 'raw_content': None}"
      ]
     },
     "execution_count": 56,
     "metadata": {},
     "output_type": "execute_result"
    }
   ],
   "source": [
    "res['results'][0]"
   ]
  },
  {
   "cell_type": "code",
   "execution_count": null,
   "metadata": {},
   "outputs": [],
   "source": []
  }
 ],
 "metadata": {
  "kernelspec": {
   "display_name": "venv",
   "language": "python",
   "name": "python3"
  },
  "language_info": {
   "codemirror_mode": {
    "name": "ipython",
    "version": 3
   },
   "file_extension": ".py",
   "mimetype": "text/x-python",
   "name": "python",
   "nbconvert_exporter": "python",
   "pygments_lexer": "ipython3",
   "version": "3.12.6"
  }
 },
 "nbformat": 4,
 "nbformat_minor": 2
}
