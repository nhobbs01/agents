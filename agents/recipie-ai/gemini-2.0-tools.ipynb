{
 "cells": [
  {
   "cell_type": "code",
   "execution_count": 3,
   "metadata": {},
   "outputs": [],
   "source": [
    "from google import genai\n",
    "from dotenv import load_dotenv\n",
    "_ = load_dotenv()\n",
    "model_name = \"gemini-2.0-flash-exp\""
   ]
  },
  {
   "cell_type": "code",
   "execution_count": 4,
   "metadata": {},
   "outputs": [],
   "source": [
    "client = genai.Client(http_options= {\n",
    "      'api_version': 'v1alpha'\n",
    "})\n",
    "     "
   ]
  },
  {
   "cell_type": "code",
   "execution_count": 53,
   "metadata": {},
   "outputs": [],
   "source": [
    "\n",
    "turn_on_the_lights = {'name': 'turn_on_the_lights'}\n",
    "turn_off_the_lights = {'name': 'turn_off_the_lights'}"
   ]
  },
  {
   "cell_type": "code",
   "execution_count": 54,
   "metadata": {},
   "outputs": [],
   "source": [
    "\n",
    "prompt = \"Turn on the lights\"\n",
    "\n",
    "tools = [\n",
    "    {'function_declarations': [turn_on_the_lights, turn_off_the_lights]}\n",
    "]\n",
    "config = {\n",
    "          \"tools\": tools}\n",
    "response = client.models.generate_content(model=model_name, contents='Turn on the lights',config=config)"
   ]
  },
  {
   "cell_type": "code",
   "execution_count": 55,
   "metadata": {},
   "outputs": [
    {
     "data": {
      "text/plain": [
       "GenerateContentResponse(candidates=[Candidate(content=Content(parts=[Part(video_metadata=None, code_execution_result=None, executable_code=None, file_data=None, function_call=FunctionCall(id=None, args={}, name='turn_on_the_lights'), function_response=None, inline_data=None, text=None)], role='model'), citation_metadata=None, finish_message=None, token_count=None, avg_logprobs=-1.1069473008059764e-06, finish_reason='STOP', grounding_metadata=None, index=None, logprobs_result=None, safety_ratings=[SafetyRating(blocked=None, category='HARM_CATEGORY_HATE_SPEECH', probability='NEGLIGIBLE', probability_score=None, severity=None, severity_score=None), SafetyRating(blocked=None, category='HARM_CATEGORY_DANGEROUS_CONTENT', probability='NEGLIGIBLE', probability_score=None, severity=None, severity_score=None), SafetyRating(blocked=None, category='HARM_CATEGORY_HARASSMENT', probability='NEGLIGIBLE', probability_score=None, severity=None, severity_score=None), SafetyRating(blocked=None, category='HARM_CATEGORY_SEXUALLY_EXPLICIT', probability='NEGLIGIBLE', probability_score=None, severity=None, severity_score=None)])], model_version='gemini-2.0-flash-exp', prompt_feedback=None, usage_metadata=GenerateContentResponseUsageMetadata(cached_content_token_count=None, candidates_token_count=7, prompt_token_count=55, total_token_count=62), automatic_function_calling_history=[], parsed=None)"
      ]
     },
     "execution_count": 55,
     "metadata": {},
     "output_type": "execute_result"
    }
   ],
   "source": [
    "response"
   ]
  },
  {
   "cell_type": "code",
   "execution_count": 63,
   "metadata": {},
   "outputs": [],
   "source": [
    "tools = [\n",
    "    {'code_execution': {}},\n",
    "]\n",
    "\n",
    "config = {\n",
    "          \"tools\": tools}\n",
    "\n",
    "new_response = client.models.generate_content(model=model_name, contents='Calculate the 10th item in the fibonacci sequence.',config=config)\n"
   ]
  },
  {
   "cell_type": "code",
   "execution_count": 61,
   "metadata": {},
   "outputs": [],
   "source": [
    "from IPython import display\n",
    "\n",
    "from google import genai\n",
    "from google.genai import types"
   ]
  },
  {
   "cell_type": "code",
   "execution_count": 64,
   "metadata": {},
   "outputs": [
    {
     "name": "stdout",
     "output_type": "stream",
     "text": [
      "------- Part 1 -------------\n",
      "video_metadata=None code_execution_result=None executable_code=None file_data=None function_call=None function_response=None inline_data=None text='Okay, I can calculate the 10th item in the Fibonacci sequence. The Fibonacci sequence starts with 0 and 1, and each subsequent number is the sum of the two preceding numbers. So, the sequence begins 0, 1, 1, 2, 3, 5, 8, 13, 21, 34... and so on.\\n\\nTo calculate the 10th item, I can either iterate through the sequence or use a formula. I will iterate through the sequence to make sure there are no off-by-one errors.\\n\\n'\n"
     ]
    },
    {
     "data": {
      "text/markdown": [
       "Okay, I can calculate the 10th item in the Fibonacci sequence. The Fibonacci sequence starts with 0 and 1, and each subsequent number is the sum of the two preceding numbers. So, the sequence begins 0, 1, 1, 2, 3, 5, 8, 13, 21, 34... and so on.\n",
       "\n",
       "To calculate the 10th item, I can either iterate through the sequence or use a formula. I will iterate through the sequence to make sure there are no off-by-one errors.\n",
       "\n"
      ],
      "text/plain": [
       "<IPython.core.display.Markdown object>"
      ]
     },
     "metadata": {},
     "output_type": "display_data"
    },
    {
     "name": "stdout",
     "output_type": "stream",
     "text": [
      "------- Part 2 -------------\n",
      "video_metadata=None code_execution_result=None executable_code=ExecutableCode(code=\"\\ndef fibonacci(n):\\n    if n <= 0:\\n        return 0\\n    elif n == 1:\\n        return 1\\n    else:\\n        a = 0\\n        b = 1\\n        for _ in range(2, n + 1):\\n            c = a + b\\n            a = b\\n            b = c\\n        return b\\n\\ntenth_fibonacci = fibonacci(10)\\nprint(f'{tenth_fibonacci=}')\\n\", language='PYTHON') file_data=None function_call=None function_response=None inline_data=None text=None\n"
     ]
    },
    {
     "data": {
      "text/markdown": [
       "-------------------------------"
      ],
      "text/plain": [
       "<IPython.core.display.Markdown object>"
      ]
     },
     "metadata": {},
     "output_type": "display_data"
    },
    {
     "data": {
      "text/markdown": [
       "``` python\n",
       "\n",
       "def fibonacci(n):\n",
       "    if n <= 0:\n",
       "        return 0\n",
       "    elif n == 1:\n",
       "        return 1\n",
       "    else:\n",
       "        a = 0\n",
       "        b = 1\n",
       "        for _ in range(2, n + 1):\n",
       "            c = a + b\n",
       "            a = b\n",
       "            b = c\n",
       "        return b\n",
       "\n",
       "tenth_fibonacci = fibonacci(10)\n",
       "print(f'{tenth_fibonacci=}')\n",
       "\n",
       "```"
      ],
      "text/plain": [
       "<IPython.core.display.Markdown object>"
      ]
     },
     "metadata": {},
     "output_type": "display_data"
    },
    {
     "data": {
      "text/markdown": [
       "-------------------------------"
      ],
      "text/plain": [
       "<IPython.core.display.Markdown object>"
      ]
     },
     "metadata": {},
     "output_type": "display_data"
    },
    {
     "name": "stdout",
     "output_type": "stream",
     "text": [
      "------- Part 3 -------------\n",
      "video_metadata=None code_execution_result=CodeExecutionResult(outcome='OUTCOME_OK', output='tenth_fibonacci=55\\n') executable_code=None file_data=None function_call=None function_response=None inline_data=None text=None\n"
     ]
    },
    {
     "data": {
      "text/markdown": [
       "-------------------------------"
      ],
      "text/plain": [
       "<IPython.core.display.Markdown object>"
      ]
     },
     "metadata": {},
     "output_type": "display_data"
    },
    {
     "data": {
      "text/markdown": [
       "```\n",
       "tenth_fibonacci=55\n",
       "\n",
       "```"
      ],
      "text/plain": [
       "<IPython.core.display.Markdown object>"
      ]
     },
     "metadata": {},
     "output_type": "display_data"
    },
    {
     "data": {
      "text/markdown": [
       "-------------------------------"
      ],
      "text/plain": [
       "<IPython.core.display.Markdown object>"
      ]
     },
     "metadata": {},
     "output_type": "display_data"
    },
    {
     "name": "stdout",
     "output_type": "stream",
     "text": [
      "------- Part 4 -------------\n",
      "video_metadata=None code_execution_result=None executable_code=None file_data=None function_call=None function_response=None inline_data=None text='The 10th item in the Fibonacci sequence is 55.\\n'\n"
     ]
    },
    {
     "data": {
      "text/markdown": [
       "The 10th item in the Fibonacci sequence is 55.\n"
      ],
      "text/plain": [
       "<IPython.core.display.Markdown object>"
      ]
     },
     "metadata": {},
     "output_type": "display_data"
    }
   ],
   "source": [
    "i = 1\n",
    "for part in new_response.candidates[0].content.parts:\n",
    "      print(f'------- Part {i} -------------')\n",
    "      print(part)\n",
    "      i+=1\n",
    "      text = part.text\n",
    "      if text is not None:\n",
    "        display.display(display.Markdown(text))\n",
    "\n",
    "      executable_code = part.executable_code\n",
    "      if executable_code is not None:\n",
    "        display.display(display.Markdown('-------------------------------'))\n",
    "        display.display(display.Markdown(f'``` python\\n{executable_code.code}\\n```'))\n",
    "        display.display(display.Markdown('-------------------------------'))\n",
    "\n",
    "      code_execution_result = part.code_execution_result\n",
    "      if code_execution_result is not None:\n",
    "        display.display(display.Markdown('-------------------------------'))\n",
    "        display.display(display.Markdown(f'```\\n{code_execution_result.output}\\n```'))\n",
    "        display.display(display.Markdown('-------------------------------'))"
   ]
  },
  {
   "cell_type": "code",
   "execution_count": 59,
   "metadata": {},
   "outputs": [
    {
     "data": {
      "text/plain": [
       "GenerateContentResponse(candidates=[Candidate(content=Content(parts=[Part(video_metadata=None, code_execution_result=None, executable_code=None, file_data=None, function_call=FunctionCall(id=None, args={}, name='turn_off_the_lights'), function_response=None, inline_data=None, text=None)], role='model'), citation_metadata=None, finish_message=None, token_count=None, avg_logprobs=-4.768820482630482e-07, finish_reason='STOP', grounding_metadata=None, index=None, logprobs_result=None, safety_ratings=[SafetyRating(blocked=None, category='HARM_CATEGORY_HATE_SPEECH', probability='NEGLIGIBLE', probability_score=None, severity=None, severity_score=None), SafetyRating(blocked=None, category='HARM_CATEGORY_DANGEROUS_CONTENT', probability='NEGLIGIBLE', probability_score=None, severity=None, severity_score=None), SafetyRating(blocked=None, category='HARM_CATEGORY_HARASSMENT', probability='NEGLIGIBLE', probability_score=None, severity=None, severity_score=None), SafetyRating(blocked=None, category='HARM_CATEGORY_SEXUALLY_EXPLICIT', probability='NEGLIGIBLE', probability_score=None, severity=None, severity_score=None)])], model_version='gemini-2.0-flash-exp', prompt_feedback=None, usage_metadata=GenerateContentResponseUsageMetadata(cached_content_token_count=None, candidates_token_count=7, prompt_token_count=56, total_token_count=63), automatic_function_calling_history=[], parsed=None)"
      ]
     },
     "execution_count": 59,
     "metadata": {},
     "output_type": "execute_result"
    }
   ],
   "source": [
    "new_response"
   ]
  },
  {
   "cell_type": "code",
   "execution_count": null,
   "metadata": {},
   "outputs": [],
   "source": []
  }
 ],
 "metadata": {
  "kernelspec": {
   "display_name": "venv",
   "language": "python",
   "name": "python3"
  },
  "language_info": {
   "codemirror_mode": {
    "name": "ipython",
    "version": 3
   },
   "file_extension": ".py",
   "mimetype": "text/x-python",
   "name": "python",
   "nbconvert_exporter": "python",
   "pygments_lexer": "ipython3",
   "version": "3.12.6"
  }
 },
 "nbformat": 4,
 "nbformat_minor": 2
}
