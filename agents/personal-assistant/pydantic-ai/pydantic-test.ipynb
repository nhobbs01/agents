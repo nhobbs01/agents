{
 "cells": [
  {
   "cell_type": "code",
   "execution_count": 25,
   "metadata": {},
   "outputs": [],
   "source": [
    "from pydantic_ai import Agent\n",
    "from dotenv import load_dotenv\n",
    "import nest_asyncio\n",
    "\n",
    "\n",
    "nest_asyncio.apply()\n",
    "_ = load_dotenv()"
   ]
  },
  {
   "cell_type": "code",
   "execution_count": 26,
   "metadata": {},
   "outputs": [],
   "source": [
    "agent = Agent('gemini-1.5-flash', system_prompt=\"You are a personal assistant, you answer questions in one sentence.\")\n"
   ]
  },
  {
   "cell_type": "code",
   "execution_count": 27,
   "metadata": {},
   "outputs": [],
   "source": [
    "result = agent.run_sync('What is pydantic?')"
   ]
  },
  {
   "cell_type": "code",
   "execution_count": 28,
   "metadata": {},
   "outputs": [
    {
     "data": {
      "text/plain": [
       "Cost(request_tokens=21, response_tokens=14, total_tokens=35, details=None)"
      ]
     },
     "execution_count": 28,
     "metadata": {},
     "output_type": "execute_result"
    }
   ],
   "source": [
    "result.cost()"
   ]
  },
  {
   "cell_type": "code",
   "execution_count": 29,
   "metadata": {},
   "outputs": [],
   "source": [
    "from pydantic import BaseModel\n",
    "# Structured response\n",
    "class MyModel(BaseModel):\n",
    "    city: str\n",
    "    country: str\n",
    "\n",
    "structured_agent = Agent('gemini-1.5-flash', result_type=MyModel)\n",
    "\n",
    "res = structured_agent.run_sync('What is the most populated city in europe?')\n"
   ]
  },
  {
   "cell_type": "code",
   "execution_count": 31,
   "metadata": {},
   "outputs": [
    {
     "data": {
      "text/plain": [
       "MyModel(city='London', country='UK')"
      ]
     },
     "execution_count": 31,
     "metadata": {},
     "output_type": "execute_result"
    }
   ],
   "source": [
    "res.data"
   ]
  },
  {
   "cell_type": "code",
   "execution_count": 37,
   "metadata": {},
   "outputs": [],
   "source": [
    "from pydantic_ai import Tool, RunContext\n",
    "\n",
    "def add(a: int, b: int):\n",
    "    return a+b\n",
    "\n",
    "add_agent = Agent('gemini-1.5-flash', tools=[Tool(add, takes_ctx=False)], system_prompt=\"You are an addition assistant. You can add two integers together using tools\"\n",
    ")\n",
    "\n",
    "result = add_agent.run_sync('What is 2+4')\n",
    "\n",
    "\n"
   ]
  },
  {
   "cell_type": "code",
   "execution_count": 39,
   "metadata": {},
   "outputs": [
    {
     "data": {
      "text/plain": [
       "[UserPrompt(content='What is 2+4', timestamp=datetime.datetime(2024, 12, 7, 16, 38, 26, 121647, tzinfo=datetime.timezone.utc), role='user'),\n",
       " ModelStructuredResponse(calls=[ToolCall(tool_name='add', args=ArgsDict(args_dict={'a': 2, 'b': 4}), tool_id=None)], timestamp=datetime.datetime(2024, 12, 7, 16, 38, 26, 927731, tzinfo=datetime.timezone.utc), role='model-structured-response'),\n",
       " ToolReturn(tool_name='add', content=6, tool_id=None, timestamp=datetime.datetime(2024, 12, 7, 16, 38, 26, 933682, tzinfo=datetime.timezone.utc), role='tool-return'),\n",
       " ModelTextResponse(content='6\\n', timestamp=datetime.datetime(2024, 12, 7, 16, 38, 27, 429432, tzinfo=datetime.timezone.utc), role='model-text-response')]"
      ]
     },
     "execution_count": 39,
     "metadata": {},
     "output_type": "execute_result"
    }
   ],
   "source": [
    "result.new_messages()"
   ]
  },
  {
   "cell_type": "code",
   "execution_count": null,
   "metadata": {},
   "outputs": [],
   "source": []
  }
 ],
 "metadata": {
  "kernelspec": {
   "display_name": "venv",
   "language": "python",
   "name": "python3"
  },
  "language_info": {
   "codemirror_mode": {
    "name": "ipython",
    "version": 3
   },
   "file_extension": ".py",
   "mimetype": "text/x-python",
   "name": "python",
   "nbconvert_exporter": "python",
   "pygments_lexer": "ipython3",
   "version": "3.12.6"
  }
 },
 "nbformat": 4,
 "nbformat_minor": 2
}
