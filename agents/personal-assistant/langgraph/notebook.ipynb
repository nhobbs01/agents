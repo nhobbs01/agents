{
 "cells": [
  {
   "cell_type": "code",
   "execution_count": 1,
   "metadata": {},
   "outputs": [],
   "source": [
    "# Langgraph implementation of personal assistant notebook."
   ]
  },
  {
   "cell_type": "code",
   "execution_count": 2,
   "metadata": {},
   "outputs": [
    {
     "name": "stderr",
     "output_type": "stream",
     "text": [
      "c:\\Users\\milia.io\\programming\\ai\\venv\\Lib\\site-packages\\tqdm\\auto.py:21: TqdmWarning: IProgress not found. Please update jupyter and ipywidgets. See https://ipywidgets.readthedocs.io/en/stable/user_install.html\n",
      "  from .autonotebook import tqdm as notebook_tqdm\n"
     ]
    }
   ],
   "source": [
    "from dotenv import load_dotenv\n",
    "import os\n",
    "\n",
    "_ = load_dotenv()\n",
    "from langchain_google_genai import ChatGoogleGenerativeAI\n",
    "\n",
    "llm = ChatGoogleGenerativeAI(model='gemini-1.5-flash',\n",
    "                             temperature=1,\n",
    ")\n"
   ]
  },
  {
   "cell_type": "code",
   "execution_count": 3,
   "metadata": {},
   "outputs": [],
   "source": [
    "messages = [\n",
    "    (\n",
    "        \"system\",\n",
    "        \"You are a helpful assistant that translates English to Spanish. Think to yourself about how you would translate a sentence from English to Spanish. Think of a different ways to translate the sentence\",\n",
    "    ),\n",
    "    (\"human\", \"I love programming.\"),\n",
    "]\n",
    "\n",
    "ai_msg = llm.invoke(messages)"
   ]
  },
  {
   "cell_type": "code",
   "execution_count": 5,
   "metadata": {},
   "outputs": [
    {
     "data": {
      "text/plain": [
       "'There are several ways to translate \"I love programming\" into Spanish, each with slightly different nuances:\\n\\n* **Me encanta la programación:** This is a very common and natural translation.  \"Encantar\" implies a strong liking, almost a passion.\\n\\n* **Amo la programación:** This is a more intense translation, using \"amar\" which means \"to love\" in a more profound, possibly romantic sense.  It\\'s less common for everyday use about hobbies but still perfectly understandable.\\n\\n* **Me gusta mucho la programación:** This translates to \"I like programming a lot.\" It\\'s a less intense way to express the sentiment, suitable if you want to avoid sounding overly enthusiastic.\\n\\n* **Adoro la programación:** This translates to \"I adore programming\" and implies a deep affection and admiration.  It\\'s stronger than \"encantar\" but less intense than \"amar.\"\\n\\n\\nThe best translation depends on the context and the level of enthusiasm you want to convey.  For most situations, \"Me encanta la programación\" is an excellent choice.\\n'"
      ]
     },
     "execution_count": 5,
     "metadata": {},
     "output_type": "execute_result"
    }
   ],
   "source": [
    "ai_msg.content"
   ]
  },
  {
   "cell_type": "code",
   "execution_count": null,
   "metadata": {},
   "outputs": [],
   "source": []
  }
 ],
 "metadata": {
  "kernelspec": {
   "display_name": "venv",
   "language": "python",
   "name": "python3"
  },
  "language_info": {
   "codemirror_mode": {
    "name": "ipython",
    "version": 3
   },
   "file_extension": ".py",
   "mimetype": "text/x-python",
   "name": "python",
   "nbconvert_exporter": "python",
   "pygments_lexer": "ipython3",
   "version": "3.12.6"
  }
 },
 "nbformat": 4,
 "nbformat_minor": 2
}
